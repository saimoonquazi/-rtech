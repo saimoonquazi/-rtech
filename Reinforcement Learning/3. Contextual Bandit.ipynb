{
 "cells": [
  {
   "cell_type": "markdown",
   "metadata": {},
   "source": [
    "# Contextual Bandit\n",
    "\n",
    "Contextual bandit is a simpler version of reinforcement learning problem, where there is just one timestep and immediate reward. It is used for example in ad placement, where the model has to propose ads for an user and receives feedback whether user clicked on it."
   ]
  },
  {
   "cell_type": "markdown",
   "metadata": {},
   "source": [
    "## Policy Gradients\n",
    "\n",
    "The policy gradient formulation can be easily used with contextual bandit. Because there is only one timestep, we can replace the return with immediate reward and baseline with mean of those rewards:\n",
    "\n",
    "$$\n",
    "L = -\\sum_{i=0}^n \\log \\pi_{\\theta}(a_i|s_i) (r_i - \\bar{r})\n",
    "$$\n",
    "\n",
    "Actually this formulation is very general and can be used to optimize any non-differentiable objective function. In this case $r_i$ would be the value of that objective function and $\\bar{r}$ is the average of that objective function."
   ]
  },
  {
   "cell_type": "markdown",
   "metadata": {},
   "source": [
    "## Fashion-MNIST\n",
    "\n",
    "Fashion-MNIST is a dataset of 60,000 28x28 grayscale images of 10 fashion categories, along with a test set of 10,000 images. This dataset can be used as a drop-in replacement for popular MNIST dataset of handwritten digits. The class labels are:\n",
    "\n",
    "|Label|Description|\n",
    "|-----|-----------|\n",
    "|0    |T-shirt/top|\n",
    "|1    |Trouser    |\n",
    "|2    |Pullover   |\n",
    "|3    |Dress      |\n",
    "|4    |Coat       |\n",
    "|5    |Sandal     |\n",
    "|6    |Shirt      |\n",
    "|7    |Sneaker    |\n",
    "|8    |Bag        |\n",
    "|9    |Ankle boot |"
   ]
  },
  {
   "cell_type": "code",
   "execution_count": 1,
   "metadata": {},
   "outputs": [
    {
     "name": "stderr",
     "output_type": "stream",
     "text": [
      "Using TensorFlow backend.\n"
     ]
    }
   ],
   "source": [
    "from keras.datasets import fashion_mnist\n",
    "from keras.layers import Input, Flatten, Dense\n",
    "from keras.models import Model\n",
    "from keras.optimizers import Adam\n",
    "\n",
    "import matplotlib.pyplot as plt\n",
    "%matplotlib inline\n",
    "\n",
    "import numpy as np"
   ]
  },
  {
   "cell_type": "code",
   "execution_count": 2,
   "metadata": {},
   "outputs": [
    {
     "name": "stdout",
     "output_type": "stream",
     "text": [
      "Downloading data from http://fashion-mnist.s3-website.eu-central-1.amazonaws.com/train-labels-idx1-ubyte.gz\n",
      "32768/29515 [=================================] - 0s 1us/step\n",
      "Downloading data from http://fashion-mnist.s3-website.eu-central-1.amazonaws.com/train-images-idx3-ubyte.gz\n",
      "26427392/26421880 [==============================] - 12s 0us/step\n",
      "Downloading data from http://fashion-mnist.s3-website.eu-central-1.amazonaws.com/t10k-labels-idx1-ubyte.gz\n",
      "8192/5148 [===============================================] - 0s 0us/step\n",
      "Downloading data from http://fashion-mnist.s3-website.eu-central-1.amazonaws.com/t10k-images-idx3-ubyte.gz\n",
      "4423680/4422102 [==============================] - 1s 0us/step\n"
     ]
    }
   ],
   "source": [
    "# load Fashion-MNIST dataset\n",
    "(trainX, trainY), (testX, testY) = fashion_mnist.load_data()\n",
    "\n",
    "# normalize inputs to the network between 0 and 1\n",
    "trainX = trainX / 255.0\n",
    "testX = testX / 255.0\n",
    "\n",
    "# names of classes\n",
    "class_names = ['T-shirt/top', 'Trouser', 'Pullover', 'Dress', 'Coat', 'Sandal', 'Shirt', 'Sneaker', 'Bag', 'Ankle boot']"
   ]
  },
  {
   "cell_type": "code",
   "execution_count": 3,
   "metadata": {},
   "outputs": [
    {
     "data": {
      "image/png": "[encoded data removed]",
      "text/plain": [
       "<Figure size 1152x432 with 10 Axes>"
      ]
     },
     "metadata": {
      "needs_background": "light"
     },
     "output_type": "display_data"
    }
   ],
   "source": [
    "# plot some sample images\n",
    "plt.figure(figsize=(16, 6))\n",
    "for i in range(10):\n",
    "  plt.subplot(2, 5, i + 1)\n",
    "  plt.imshow(trainX[i], cmap='gray')\n",
    "  plt.title(class_names[trainY[i]])\n",
    "  plt.axis('off')"
   ]
  },
  {
   "cell_type": "markdown",
   "metadata": {},
   "source": [
    "## Supervised learning\n",
    "\n",
    "First try normal supervised learning."
   ]
  },
  {
   "cell_type": "code",
   "execution_count": 4,
   "metadata": {},
   "outputs": [
    {
     "name": "stdout",
     "output_type": "stream",
     "text": [
      "_________________________________________________________________\n",
      "Layer (type)                 Output Shape              Param #   \n",
      "=================================================================\n",
      "input_1 (InputLayer)         (None, 28, 28)            0         \n",
      "_________________________________________________________________\n",
      "flatten_1 (Flatten)          (None, 784)               0         \n",
      "_________________________________________________________________\n",
      "dense_1 (Dense)              (None, 128)               100480    \n",
      "_________________________________________________________________\n",
      "dense_2 (Dense)              (None, 10)                1290      \n",
      "=================================================================\n",
      "Total params: 101,770\n",
      "Trainable params: 101,770\n",
      "Non-trainable params: 0\n",
      "_________________________________________________________________\n"
     ]
    }
   ],
   "source": [
    "# create a simple one hidden layer network\n",
    "x = Input(shape=trainX.shape[1:])\n",
    "f = Flatten()(x)\n",
    "h = Dense(128, activation='relu')(f)\n",
    "p = Dense(10, activation='softmax')(h)\n",
    "\n",
    "model = Model(x, p)\n",
    "model.compile(loss='sparse_categorical_crossentropy', optimizer=Adam(lr=0.001), metrics=['accuracy'])\n",
    "\n",
    "model.summary()"
   ]
  },
  {
   "cell_type": "code",
   "execution_count": 5,
   "metadata": {},
   "outputs": [
    {
     "name": "stdout",
     "output_type": "stream",
     "text": [
      "Epoch 1/5\n",
      "60000/60000 [==============================] - 9s 147us/step - loss: 0.5008 - acc: 0.8239\n",
      "Epoch 2/5\n",
      "60000/60000 [==============================] - 8s 137us/step - loss: 0.3766 - acc: 0.8644\n",
      "Epoch 3/5\n",
      "60000/60000 [==============================] - 8s 140us/step - loss: 0.3392 - acc: 0.8758\n",
      "Epoch 4/5\n",
      "60000/60000 [==============================] - 8s 139us/step - loss: 0.3136 - acc: 0.8849\n",
      "Epoch 5/5\n",
      "60000/60000 [==============================] - 9s 143us/step - loss: 0.2966 - acc: 0.8903\n"
     ]
    },
    {
     "data": {
      "text/plain": [
       "<keras.callbacks.History at 0x7f7f161d8d30>"
      ]
     },
     "execution_count": 5,
     "metadata": {},
     "output_type": "execute_result"
    }
   ],
   "source": [
    "# fit the model\n",
    "model.fit(trainX, trainY, epochs=5)"
   ]
  },
  {
   "cell_type": "code",
   "execution_count": 6,
   "metadata": {},
   "outputs": [
    {
     "name": "stdout",
     "output_type": "stream",
     "text": [
      "10000/10000 [==============================] - 1s 58us/step\n",
      "Test accuracy: 0.8691\n"
     ]
    }
   ],
   "source": [
    "loss, accuracy = model.evaluate(testX, testY)\n",
    "print(\"Test accuracy:\", accuracy)"
   ]
  },
  {
   "cell_type": "markdown",
   "metadata": {},
   "source": [
    "## Reinforcement Learning\n",
    "\n",
    "Now let's play a game: suppose we have 10 different users, each one liking only images from one category. For each image the network has to propose to which user to show it. The feedback is in the form of clicks - if the correct category image was shown to the user, then she will click on it.\n",
    "\n",
    "Actually the task is basically the same as in supervised learning, just framed in a different way and we will use policy gradients to train the network."
   ]
  },
  {
   "cell_type": "code",
   "execution_count": 7,
   "metadata": {},
   "outputs": [
    {
     "name": "stdout",
     "output_type": "stream",
     "text": [
      "_________________________________________________________________\n",
      "Layer (type)                 Output Shape              Param #   \n",
      "=================================================================\n",
      "input_2 (InputLayer)         (None, 28, 28)            0         \n",
      "_________________________________________________________________\n",
      "flatten_2 (Flatten)          (None, 784)               0         \n",
      "_________________________________________________________________\n",
      "dense_3 (Dense)              (None, 128)               100480    \n",
      "_________________________________________________________________\n",
      "dense_4 (Dense)              (None, 10)                1290      \n",
      "=================================================================\n",
      "Total params: 101,770\n",
      "Trainable params: 101,770\n",
      "Non-trainable params: 0\n",
      "_________________________________________________________________\n"
     ]
    }
   ],
   "source": [
    "from keras.initializers import RandomNormal\n",
    "\n",
    "x = Input(shape=trainX.shape[1:])\n",
    "f = Flatten()(x)\n",
    "h = Dense(128, activation='relu')(f)\n",
    "# initialize last layer closer to zero to have more uniform predictions initially\n",
    "p = Dense(10, activation='softmax', kernel_initializer=RandomNormal(stddev=0.01))(h)\n",
    "\n",
    "model = Model(x, p)\n",
    "model.compile(loss='sparse_categorical_crossentropy', optimizer=Adam(lr=0.001), metrics=['accuracy'])\n",
    "\n",
    "model.summary()"
   ]
  },
  {
   "cell_type": "code",
   "execution_count": 8,
   "metadata": {
    "scrolled": true
   },
   "outputs": [
    {
     "name": "stdout",
     "output_type": "stream",
     "text": [
      "Epoch: 1 Train accuracy: 0.63025\n",
      "Epoch: 2 Train accuracy: 0.678\n",
      "Epoch: 3 Train accuracy: 0.6892166666666667\n",
      "Epoch: 4 Train accuracy: 0.7327333333333333\n",
      "Epoch: 5 Train accuracy: 0.7499166666666667\n",
      "Epoch: 6 Train accuracy: 0.73415\n",
      "Epoch: 7 Train accuracy: 0.7556666666666667\n",
      "Epoch: 8 Train accuracy: 0.7559666666666667\n",
      "Epoch: 9 Train accuracy: 0.75675\n",
      "Epoch: 10 Train accuracy: 0.7537166666666667\n",
      "Epoch: 11 Train accuracy: 0.7561166666666667\n",
      "Epoch: 12 Train accuracy: 0.75585\n",
      "Epoch: 13 Train accuracy: 0.7704833333333333\n",
      "Epoch: 14 Train accuracy: 0.7683\n",
      "Epoch: 15 Train accuracy: 0.77155\n",
      "Epoch: 16 Train accuracy: 0.7697166666666667\n",
      "Epoch: 17 Train accuracy: 0.7661666666666667\n",
      "Epoch: 18 Train accuracy: 0.7579\n",
      "Epoch: 19 Train accuracy: 0.76645\n",
      "Epoch: 20 Train accuracy: 0.7798166666666667\n"
     ]
    }
   ],
   "source": [
    "EPOCHS = 20\n",
    "BATCHSIZE = 100\n",
    "\n",
    "idx = np.arange(len(trainX))\n",
    "for epoch in range(EPOCHS):\n",
    "    np.random.shuffle(idx)\n",
    "    for batch in range(0, len(idx), BATCHSIZE):\n",
    "        # prepare batch\n",
    "        states = trainX[idx[batch:batch + BATCHSIZE]]\n",
    "        labels = trainY[idx[batch:batch + BATCHSIZE]]\n",
    "\n",
    "        # predict probabilities for actions\n",
    "        probs = model.predict_on_batch(states)\n",
    "        # sample actions\n",
    "        actions = [np.random.choice(10, p=p) for p in probs]\n",
    "\n",
    "        # simulate feedback (clicks=rewards)\n",
    "        rewards = (actions == labels)\n",
    "        # calculate baseline as mean reward, basically accuracy\n",
    "        baseline = np.mean(rewards)\n",
    "        # calculate advantages\n",
    "        advantages = rewards - baseline\n",
    "\n",
    "        # train model with advantages as sample weights\n",
    "        model.train_on_batch(states, actions, sample_weight=advantages)\n",
    "        \n",
    "        #print(\"Batch: \", batch, \"Accuracy: \", baseline)\n",
    "\n",
    "    loss, accuracy = model.evaluate(trainX, trainY, verbose=0)\n",
    "    print(\"Epoch:\", epoch + 1, \"Train accuracy:\", accuracy)"
   ]
  },
  {
   "cell_type": "code",
   "execution_count": 9,
   "metadata": {},
   "outputs": [
    {
     "name": "stdout",
     "output_type": "stream",
     "text": [
      "10000/10000 [==============================] - 1s 51us/step\n",
      "Test accuracy: 0.7641\n"
     ]
    }
   ],
   "source": [
    "loss, accuracy = model.evaluate(testX, testY)\n",
    "print(\"Test accuracy:\", accuracy)"
   ]
  },
  {
   "cell_type": "markdown",
   "metadata": {},
   "source": [
    "## Conclusions\n",
    "\n",
    "* Reinforcement learning takes much longer to converge than supervised learning. If ever possible, use supervised learning.\n",
    "* But if your only feedback is in the form of rewards, then policy gradients are relatively easy to integrate with Keras.\n",
    "* Policy gradients can be used to optimize any non-differentiable loss function."
   ]
  },
  {
   "cell_type": "markdown",
   "metadata": {},
   "source": [
    "## Bonus\n",
    "\n",
    "Efficient Keras implementation for training with non-differentiable loss function using policy gradients."
   ]
  },
  {
   "cell_type": "code",
   "execution_count": 10,
   "metadata": {},
   "outputs": [
    {
     "ename": "AttributeError",
     "evalue": "module 'tensorflow._api.v1.random' has no attribute 'categorical'",
     "output_type": "error",
     "traceback": [
      "\u001b[0;31m---------------------------------------------------------------------------\u001b[0m",
      "\u001b[0;31mAttributeError\u001b[0m                            Traceback (most recent call last)",
      "\u001b[0;32m<ipython-input-10-d03695323fc4>\u001b[0m in \u001b[0;36m<module>\u001b[0;34m\u001b[0m\n\u001b[1;32m     24\u001b[0m \u001b[0;34m\u001b[0m\u001b[0m\n\u001b[1;32m     25\u001b[0m \u001b[0mmodel\u001b[0m \u001b[0;34m=\u001b[0m \u001b[0mModel\u001b[0m\u001b[0;34m(\u001b[0m\u001b[0mx\u001b[0m\u001b[0;34m,\u001b[0m \u001b[0mp\u001b[0m\u001b[0;34m)\u001b[0m\u001b[0;34m\u001b[0m\u001b[0;34m\u001b[0m\u001b[0m\n\u001b[0;32m---> 26\u001b[0;31m \u001b[0mmodel\u001b[0m\u001b[0;34m.\u001b[0m\u001b[0mcompile\u001b[0m\u001b[0;34m(\u001b[0m\u001b[0mloss\u001b[0m\u001b[0;34m=\u001b[0m\u001b[0mpolicy_gradient_loss\u001b[0m\u001b[0;34m,\u001b[0m \u001b[0moptimizer\u001b[0m\u001b[0;34m=\u001b[0m\u001b[0mAdam\u001b[0m\u001b[0;34m(\u001b[0m\u001b[0mlr\u001b[0m\u001b[0;34m=\u001b[0m\u001b[0;36m0.001\u001b[0m\u001b[0;34m)\u001b[0m\u001b[0;34m,\u001b[0m \u001b[0mmetrics\u001b[0m\u001b[0;34m=\u001b[0m\u001b[0;34m[\u001b[0m\u001b[0msparse_categorical_accuracy\u001b[0m\u001b[0;34m]\u001b[0m\u001b[0;34m)\u001b[0m\u001b[0;34m\u001b[0m\u001b[0;34m\u001b[0m\u001b[0m\n\u001b[0m\u001b[1;32m     27\u001b[0m \u001b[0;34m\u001b[0m\u001b[0m\n\u001b[1;32m     28\u001b[0m \u001b[0mmodel\u001b[0m\u001b[0;34m.\u001b[0m\u001b[0msummary\u001b[0m\u001b[0;34m(\u001b[0m\u001b[0;34m)\u001b[0m\u001b[0;34m\u001b[0m\u001b[0;34m\u001b[0m\u001b[0m\n",
      "\u001b[0;32m~/anaconda3/envs/nn_keras_env/lib/python3.6/site-packages/keras/engine/training.py\u001b[0m in \u001b[0;36mcompile\u001b[0;34m(self, optimizer, loss, metrics, loss_weights, sample_weight_mode, weighted_metrics, target_tensors, **kwargs)\u001b[0m\n\u001b[1;32m    340\u001b[0m                 \u001b[0;32mwith\u001b[0m \u001b[0mK\u001b[0m\u001b[0;34m.\u001b[0m\u001b[0mname_scope\u001b[0m\u001b[0;34m(\u001b[0m\u001b[0mself\u001b[0m\u001b[0;34m.\u001b[0m\u001b[0moutput_names\u001b[0m\u001b[0;34m[\u001b[0m\u001b[0mi\u001b[0m\u001b[0;34m]\u001b[0m \u001b[0;34m+\u001b[0m \u001b[0;34m'_loss'\u001b[0m\u001b[0;34m)\u001b[0m\u001b[0;34m:\u001b[0m\u001b[0;34m\u001b[0m\u001b[0;34m\u001b[0m\u001b[0m\n\u001b[1;32m    341\u001b[0m                     output_loss = weighted_loss(y_true, y_pred,\n\u001b[0;32m--> 342\u001b[0;31m                                                 sample_weight, mask)\n\u001b[0m\u001b[1;32m    343\u001b[0m                 \u001b[0;32mif\u001b[0m \u001b[0mlen\u001b[0m\u001b[0;34m(\u001b[0m\u001b[0mself\u001b[0m\u001b[0;34m.\u001b[0m\u001b[0moutputs\u001b[0m\u001b[0;34m)\u001b[0m \u001b[0;34m>\u001b[0m \u001b[0;36m1\u001b[0m\u001b[0;34m:\u001b[0m\u001b[0;34m\u001b[0m\u001b[0;34m\u001b[0m\u001b[0m\n\u001b[1;32m    344\u001b[0m                     \u001b[0mself\u001b[0m\u001b[0;34m.\u001b[0m\u001b[0mmetrics_tensors\u001b[0m\u001b[0;34m.\u001b[0m\u001b[0mappend\u001b[0m\u001b[0;34m(\u001b[0m\u001b[0moutput_loss\u001b[0m\u001b[0;34m)\u001b[0m\u001b[0;34m\u001b[0m\u001b[0;34m\u001b[0m\u001b[0m\n",
      "\u001b[0;32m~/anaconda3/envs/nn_keras_env/lib/python3.6/site-packages/keras/engine/training_utils.py\u001b[0m in \u001b[0;36mweighted\u001b[0;34m(y_true, y_pred, weights, mask)\u001b[0m\n\u001b[1;32m    402\u001b[0m         \"\"\"\n\u001b[1;32m    403\u001b[0m         \u001b[0;31m# score_array has ndim >= 2\u001b[0m\u001b[0;34m\u001b[0m\u001b[0;34m\u001b[0m\u001b[0;34m\u001b[0m\u001b[0m\n\u001b[0;32m--> 404\u001b[0;31m         \u001b[0mscore_array\u001b[0m \u001b[0;34m=\u001b[0m \u001b[0mfn\u001b[0m\u001b[0;34m(\u001b[0m\u001b[0my_true\u001b[0m\u001b[0;34m,\u001b[0m \u001b[0my_pred\u001b[0m\u001b[0;34m)\u001b[0m\u001b[0;34m\u001b[0m\u001b[0;34m\u001b[0m\u001b[0m\n\u001b[0m\u001b[1;32m    405\u001b[0m         \u001b[0;32mif\u001b[0m \u001b[0mmask\u001b[0m \u001b[0;32mis\u001b[0m \u001b[0;32mnot\u001b[0m \u001b[0;32mNone\u001b[0m\u001b[0;34m:\u001b[0m\u001b[0;34m\u001b[0m\u001b[0;34m\u001b[0m\u001b[0m\n\u001b[1;32m    406\u001b[0m             \u001b[0;31m# Cast the mask to floatX to avoid float64 upcasting in Theano\u001b[0m\u001b[0;34m\u001b[0m\u001b[0;34m\u001b[0m\u001b[0;34m\u001b[0m\u001b[0m\n",
      "\u001b[0;32m<ipython-input-10-d03695323fc4>\u001b[0m in \u001b[0;36mpolicy_gradient_loss\u001b[0;34m(labels, logits)\u001b[0m\n\u001b[1;32m     11\u001b[0m     \u001b[0mlabels\u001b[0m \u001b[0;34m=\u001b[0m \u001b[0mtf\u001b[0m\u001b[0;34m.\u001b[0m\u001b[0mcast\u001b[0m\u001b[0;34m(\u001b[0m\u001b[0mlabels\u001b[0m\u001b[0;34m,\u001b[0m \u001b[0mtf\u001b[0m\u001b[0;34m.\u001b[0m\u001b[0mint64\u001b[0m\u001b[0;34m)\u001b[0m\u001b[0;34m[\u001b[0m\u001b[0;34m:\u001b[0m\u001b[0;34m,\u001b[0m \u001b[0;36m0\u001b[0m\u001b[0;34m]\u001b[0m\u001b[0;34m\u001b[0m\u001b[0;34m\u001b[0m\u001b[0m\n\u001b[1;32m     12\u001b[0m     \u001b[0;31m# sample actions from logits, strip redundant dimension\u001b[0m\u001b[0;34m\u001b[0m\u001b[0;34m\u001b[0m\u001b[0;34m\u001b[0m\u001b[0m\n\u001b[0;32m---> 13\u001b[0;31m     \u001b[0mactions\u001b[0m \u001b[0;34m=\u001b[0m \u001b[0mtf\u001b[0m\u001b[0;34m.\u001b[0m\u001b[0mrandom\u001b[0m\u001b[0;34m.\u001b[0m\u001b[0mcategorical\u001b[0m\u001b[0;34m(\u001b[0m\u001b[0mlogits\u001b[0m\u001b[0;34m,\u001b[0m \u001b[0;36m1\u001b[0m\u001b[0;34m)\u001b[0m\u001b[0;34m[\u001b[0m\u001b[0;34m:\u001b[0m\u001b[0;34m,\u001b[0m \u001b[0;36m0\u001b[0m\u001b[0;34m]\u001b[0m\u001b[0;34m\u001b[0m\u001b[0;34m\u001b[0m\u001b[0m\n\u001b[0m\u001b[1;32m     14\u001b[0m \u001b[0;34m\u001b[0m\u001b[0m\n\u001b[1;32m     15\u001b[0m     \u001b[0;31m# simulate rewards: reward = 1 when the prediction was correct\u001b[0m\u001b[0;34m\u001b[0m\u001b[0;34m\u001b[0m\u001b[0;34m\u001b[0m\u001b[0m\n",
      "\u001b[0;31mAttributeError\u001b[0m: module 'tensorflow._api.v1.random' has no attribute 'categorical'"
     ]
    }
   ],
   "source": [
    "import tensorflow as tf\n",
    "from keras.metrics import sparse_categorical_accuracy\n",
    "\n",
    "x = Input(shape=trainX.shape[1:])\n",
    "f = Flatten()(x)\n",
    "h = Dense(128, activation='relu')(f)\n",
    "p = Dense(10, kernel_initializer=RandomNormal(stddev=0.01))(h)\n",
    "\n",
    "def policy_gradient_loss(labels, logits):\n",
    "    # convert labels to integers and strip redundant dimension\n",
    "    labels = tf.cast(labels, tf.int64)[:, 0]\n",
    "    # sample actions from logits, strip redundant dimension\n",
    "    actions = tf.random.categorical(logits, 1)[:, 0]\n",
    "\n",
    "    # simulate rewards: reward = 1 when the prediction was correct\n",
    "    rewards = tf.cast(tf.equal(actions, labels), tf.float32)\n",
    "    # baseline is mean reward of batch, basically accuracy\n",
    "    baseline = tf.reduce_mean(rewards)\n",
    "    # advantage is positive for correct predictions, negative for incorrect\n",
    "    advantages = rewards - baseline\n",
    "\n",
    "    # calculate categorical cross-entropy against sampled actions, weighted by advantages\n",
    "    return tf.nn.sparse_softmax_cross_entropy_with_logits(labels=actions, logits=logits) * advantages\n",
    "    \n",
    "model = Model(x, p)\n",
    "model.compile(loss=policy_gradient_loss, optimizer=Adam(lr=0.001), metrics=[sparse_categorical_accuracy])\n",
    "\n",
    "model.summary()"
   ]
  },
  {
   "cell_type": "code",
   "execution_count": 11,
   "metadata": {},
   "outputs": [
    {
     "name": "stdout",
     "output_type": "stream",
     "text": [
      "Epoch 1/20\n",
      "60000/60000 [==============================] - 1s 23us/step - loss: -0.0967 - sparse_categorical_accuracy: 0.6557\n",
      "Epoch 2/20\n",
      "60000/60000 [==============================] - 1s 21us/step - loss: -0.0436 - sparse_categorical_accuracy: 0.7264\n",
      "Epoch 3/20\n",
      "60000/60000 [==============================] - 1s 21us/step - loss: -0.0311 - sparse_categorical_accuracy: 0.7363\n",
      "Epoch 4/20\n",
      "60000/60000 [==============================] - 1s 21us/step - loss: -0.0306 - sparse_categorical_accuracy: 0.7373\n",
      "Epoch 5/20\n",
      "60000/60000 [==============================] - 1s 21us/step - loss: -0.0238 - sparse_categorical_accuracy: 0.7424\n",
      "Epoch 6/20\n",
      "60000/60000 [==============================] - 1s 20us/step - loss: -0.0281 - sparse_categorical_accuracy: 0.7494\n",
      "Epoch 7/20\n",
      "60000/60000 [==============================] - 1s 20us/step - loss: -0.0347 - sparse_categorical_accuracy: 0.7683\n",
      "Epoch 8/20\n",
      "60000/60000 [==============================] - 1s 20us/step - loss: -0.0318 - sparse_categorical_accuracy: 0.7760\n",
      "Epoch 9/20\n",
      "60000/60000 [==============================] - 1s 20us/step - loss: -0.0313 - sparse_categorical_accuracy: 0.7803\n",
      "Epoch 10/20\n",
      "60000/60000 [==============================] - 1s 21us/step - loss: -0.0296 - sparse_categorical_accuracy: 0.7866\n",
      "Epoch 11/20\n",
      "60000/60000 [==============================] - 1s 20us/step - loss: -0.0295 - sparse_categorical_accuracy: 0.7890\n",
      "Epoch 12/20\n",
      "60000/60000 [==============================] - 1s 20us/step - loss: -0.0294 - sparse_categorical_accuracy: 0.7918\n",
      "Epoch 13/20\n",
      "60000/60000 [==============================] - 1s 20us/step - loss: -0.0387 - sparse_categorical_accuracy: 0.8355\n",
      "Epoch 14/20\n",
      "60000/60000 [==============================] - 1s 20us/step - loss: -0.0328 - sparse_categorical_accuracy: 0.8461\n",
      "Epoch 15/20\n",
      "60000/60000 [==============================] - 1s 21us/step - loss: -0.0308 - sparse_categorical_accuracy: 0.8506\n",
      "Epoch 16/20\n",
      "60000/60000 [==============================] - 1s 20us/step - loss: -0.0291 - sparse_categorical_accuracy: 0.8548\n",
      "Epoch 17/20\n",
      "60000/60000 [==============================] - 1s 21us/step - loss: -0.0283 - sparse_categorical_accuracy: 0.8579\n",
      "Epoch 18/20\n",
      "60000/60000 [==============================] - 1s 20us/step - loss: -0.0252 - sparse_categorical_accuracy: 0.8588\n",
      "Epoch 19/20\n",
      "60000/60000 [==============================] - 1s 20us/step - loss: -0.0250 - sparse_categorical_accuracy: 0.8621\n",
      "Epoch 20/20\n",
      "60000/60000 [==============================] - 1s 20us/step - loss: -0.0250 - sparse_categorical_accuracy: 0.8635\n"
     ]
    },
    {
     "data": {
      "text/plain": [
       "<keras.callbacks.History at 0x7f95dc6c25f8>"
      ]
     },
     "execution_count": 11,
     "metadata": {},
     "output_type": "execute_result"
    }
   ],
   "source": [
    "# fit the model\n",
    "model.fit(trainX, trainY, epochs=20, batch_size=100)"
   ]
  },
  {
   "cell_type": "code",
   "execution_count": 12,
   "metadata": {},
   "outputs": [
    {
     "name": "stdout",
     "output_type": "stream",
     "text": [
      "10000/10000 [==============================] - 0s 18us/step\n",
      "Test accuracy: 0.8451\n"
     ]
    }
   ],
   "source": [
    "loss, accuracy = model.evaluate(testX, testY)\n",
    "print(\"Test accuracy:\", accuracy)"
   ]
  },
  {
   "cell_type": "code",
   "execution_count": null,
   "metadata": {},
   "outputs": [],
   "source": []
  }
 ],
 "metadata": {
  "kernelspec": {
   "display_name": "Python 3",
   "language": "python",
   "name": "python3"
  },
  "language_info": {
   "codemirror_mode": {
    "name": "ipython",
    "version": 3
   },
   "file_extension": ".py",
   "mimetype": "text/x-python",
   "name": "python",
   "nbconvert_exporter": "python",
   "pygments_lexer": "ipython3",
   "version": "3.6.8"
  }
 },
 "nbformat": 4,
 "nbformat_minor": 2
}
