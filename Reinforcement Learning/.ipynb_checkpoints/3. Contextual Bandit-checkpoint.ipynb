{
 "cells": [
  {
   "cell_type": "markdown",
   "metadata": {},
   "source": [
    "# Contextual Bandit\n",
    "\n",
    "Contextual bandit is a simpler version of reinforcement learning problem, where there is just one timestep and immediate reward. It is used for example in ad placement, where the model has to propose ads for an user and receives feedback whether user clicked on it."
   ]
  },
  {
   "cell_type": "markdown",
   "metadata": {},
   "source": [
    "## Policy Gradients\n",
    "\n",
    "The policy gradient formulation can be easily used with contextual bandit. Because there is only one timestep, we can replace the return with immediate reward and baseline with mean of those rewards:\n",
    "\n",
    "$$\n",
    "L = -\\sum_{i=0}^n \\log \\pi_{\\theta}(a_i|s_i) (r_i - \\bar{r})\n",
    "$$\n",
    "\n",
    "Actually this formulation is very general and can be used to optimize any non-differentiable objective function. In this case $r_i$ would be the value of that objective function and $\\bar{r}$ is the average of that objective function."
   ]
  },
  {
   "cell_type": "markdown",
   "metadata": {},
   "source": [
    "## Fashion-MNIST\n",
    "\n",
    "Fashion-MNIST is a dataset of 60,000 28x28 grayscale images of 10 fashion categories, along with a test set of 10,000 images. This dataset can be used as a drop-in replacement for popular MNIST dataset of handwritten digits. The class labels are:\n",
    "\n",
    "|Label|Description|\n",
    "|-----|-----------|\n",
    "|0    |T-shirt/top|\n",
    "|1    |Trouser    |\n",
    "|2    |Pullover   |\n",
    "|3    |Dress      |\n",
    "|4    |Coat       |\n",
    "|5    |Sandal     |\n",
    "|6    |Shirt      |\n",
    "|7    |Sneaker    |\n",
    "|8    |Bag        |\n",
    "|9    |Ankle boot |"
   ]
  },
  {
   "cell_type": "code",
   "execution_count": 1,
   "metadata": {},
   "outputs": [
    {
     "name": "stderr",
     "output_type": "stream",
     "text": [
      "Using TensorFlow backend.\n"
     ]
    }
   ],
   "source": [
    "from keras.datasets import fashion_mnist\n",
    "from keras.layers import Input, Flatten, Dense\n",
    "from keras.models import Model\n",
    "from keras.optimizers import Adam\n",
    "\n",
    "import matplotlib.pyplot as plt\n",
    "%matplotlib inline\n",
    "\n",
    "import numpy as np"
   ]
  },
  {
   "cell_type": "code",
   "execution_count": 2,
   "metadata": {},
   "outputs": [],
   "source": [
    "# load Fashion-MNIST dataset\n",
    "(trainX, trainY), (testX, testY) = fashion_mnist.load_data()\n",
    "\n",
    "# normalize inputs to the network between 0 and 1\n",
    "trainX = trainX / 255.0\n",
    "testX = testX / 255.0\n",
    "\n",
    "# names of classes\n",
    "class_names = ['T-shirt/top', 'Trouser', 'Pullover', 'Dress', 'Coat', 'Sandal', 'Shirt', 'Sneaker', 'Bag', 'Ankle boot']"
   ]
  },
  {
   "cell_type": "code",
   "execution_count": 3,
   "metadata": {},
   "outputs": [
    {
     "data": {
      "image/png": "[encoded data removed]",
      "text/plain": [
       "<Figure size 1152x432 with 10 Axes>"
      ]
     },
     "metadata": {
      "needs_background": "light"
     },
     "output_type": "display_data"
    }
   ],
   "source": [
    "# plot some sample images\n",
    "plt.figure(figsize=(16, 6))\n",
    "for i in range(10):\n",
    "  plt.subplot(2, 5, i + 1)\n",
    "  plt.imshow(trainX[i], cmap='gray')\n",
    "  plt.title(class_names[trainY[i]])\n",
    "  plt.axis('off')"
   ]
  },
  {
   "cell_type": "markdown",
   "metadata": {},
   "source": [
    "## Supervised learning\n",
    "\n",
    "First try normal supervised learning."
   ]
  },
  {
   "cell_type": "code",
   "execution_count": 4,
   "metadata": {},
   "outputs": [
    {
     "name": "stdout",
     "output_type": "stream",
     "text": [
      "WARNING:tensorflow:From /home/tambet/miniconda3/envs/nn/lib/python3.7/site-packages/tensorflow/python/framework/op_def_library.py:263: colocate_with (from tensorflow.python.framework.ops) is deprecated and will be removed in a future version.\n",
      "Instructions for updating:\n",
      "Colocations handled automatically by placer.\n",
      "_________________________________________________________________\n",
      "Layer (type)                 Output Shape              Param #   \n",
      "=================================================================\n",
      "input_1 (InputLayer)         (None, 28, 28)            0         \n",
      "_________________________________________________________________\n",
      "flatten_1 (Flatten)          (None, 784)               0         \n",
      "_________________________________________________________________\n",
      "dense_1 (Dense)              (None, 128)               100480    \n",
      "_________________________________________________________________\n",
      "dense_2 (Dense)              (None, 10)                1290      \n",
      "=================================================================\n",
      "Total params: 101,770\n",
      "Trainable params: 101,770\n",
      "Non-trainable params: 0\n",
      "_________________________________________________________________\n"
     ]
    }
   ],
   "source": [
    "# create a simple one hidden layer network\n",
    "x = Input(shape=trainX.shape[1:])\n",
    "f = Flatten()(x)\n",
    "h = Dense(128, activation='relu')(f)\n",
    "p = Dense(10, activation='softmax')(h)\n",
    "\n",
    "model = Model(x, p)\n",
    "model.compile(loss='sparse_categorical_crossentropy', optimizer=Adam(lr=0.001), metrics=['accuracy'])\n",
    "\n",
    "model.summary()"
   ]
  },
  {
   "cell_type": "code",
   "execution_count": 5,
   "metadata": {},
   "outputs": [
    {
     "name": "stdout",
     "output_type": "stream",
     "text": [
      "WARNING:tensorflow:From /home/tambet/miniconda3/envs/nn/lib/python3.7/site-packages/tensorflow/python/ops/math_ops.py:3066: to_int32 (from tensorflow.python.ops.math_ops) is deprecated and will be removed in a future version.\n",
      "Instructions for updating:\n",
      "Use tf.cast instead.\n",
      "Epoch 1/5\n",
      "60000/60000 [==============================] - 3s 50us/step - loss: 0.5026 - acc: 0.8251\n",
      "Epoch 2/5\n",
      "60000/60000 [==============================] - 3s 45us/step - loss: 0.3778 - acc: 0.8640\n",
      "Epoch 3/5\n",
      "60000/60000 [==============================] - 3s 47us/step - loss: 0.3393 - acc: 0.8760\n",
      "Epoch 4/5\n",
      "60000/60000 [==============================] - 3s 46us/step - loss: 0.3149 - acc: 0.8852\n",
      "Epoch 5/5\n",
      "60000/60000 [==============================] - 3s 46us/step - loss: 0.2953 - acc: 0.8920\n"
     ]
    },
    {
     "data": {
      "text/plain": [
       "<keras.callbacks.History at 0x7f95dc74ffd0>"
      ]
     },
     "execution_count": 5,
     "metadata": {},
     "output_type": "execute_result"
    }
   ],
   "source": [
    "# fit the model\n",
    "model.fit(trainX, trainY, epochs=5)"
   ]
  },
  {
   "cell_type": "code",
   "execution_count": 6,
   "metadata": {},
   "outputs": [
    {
     "name": "stdout",
     "output_type": "stream",
     "text": [
      "10000/10000 [==============================] - 0s 17us/step\n",
      "Test accuracy: 0.8738\n"
     ]
    }
   ],
   "source": [
    "loss, accuracy = model.evaluate(testX, testY)\n",
    "print(\"Test accuracy:\", accuracy)"
   ]
  },
  {
   "cell_type": "markdown",
   "metadata": {},
   "source": [
    "## Reinforcement Learning\n",
    "\n",
    "Now let's play a game: suppose we have 10 different users, each one liking only images from one category. For each image the network has to propose to which user to show it. The feedback is in the form of clicks - if the correct category image was shown to the user, then she will click on it.\n",
    "\n",
    "Actually the task is basically the same as in supervised learning, just framed in a different way and we will use policy gradients to train the network."
   ]
  },
  {
   "cell_type": "code",
   "execution_count": 7,
   "metadata": {},
   "outputs": [
    {
     "name": "stdout",
     "output_type": "stream",
     "text": [
      "_________________________________________________________________\n",
      "Layer (type)                 Output Shape              Param #   \n",
      "=================================================================\n",
      "input_2 (InputLayer)         (None, 28, 28)            0         \n",
      "_________________________________________________________________\n",
      "flatten_2 (Flatten)          (None, 784)               0         \n",
      "_________________________________________________________________\n",
      "dense_3 (Dense)              (None, 128)               100480    \n",
      "_________________________________________________________________\n",
      "dense_4 (Dense)              (None, 10)                1290      \n",
      "=================================================================\n",
      "Total params: 101,770\n",
      "Trainable params: 101,770\n",
      "Non-trainable params: 0\n",
      "_________________________________________________________________\n"
     ]
    }
   ],
   "source": [
    "from keras.initializers import RandomNormal\n",
    "\n",
    "x = Input(shape=trainX.shape[1:])\n",
    "f = Flatten()(x)\n",
    "h = Dense(128, activation='relu')(f)\n",
    "# initialize last layer closer to zero to have more uniform predictions initially\n",
    "p = Dense(10, activation='softmax', kernel_initializer=RandomNormal(stddev=0.01))(h)\n",
    "\n",
    "model = Model(x, p)\n",
    "model.compile(loss='sparse_categorical_crossentropy', optimizer=Adam(lr=0.001), metrics=['accuracy'])\n",
    "\n",
    "model.summary()"
   ]
  },
  {
   "cell_type": "code",
   "execution_count": 8,
   "metadata": {},
   "outputs": [
    {
     "name": "stdout",
     "output_type": "stream",
     "text": [
      "Epoch: 1 Train accuracy: 0.6095166666666667\n",
      "Epoch: 2 Train accuracy: 0.6117666666666667\n",
      "Epoch: 3 Train accuracy: 0.7318\n",
      "Epoch: 4 Train accuracy: 0.7425833333333334\n",
      "Epoch: 5 Train accuracy: 0.7487\n",
      "Epoch: 6 Train accuracy: 0.7487666666666667\n",
      "Epoch: 7 Train accuracy: 0.74645\n",
      "Epoch: 8 Train accuracy: 0.75595\n",
      "Epoch: 9 Train accuracy: 0.7574666666666666\n",
      "Epoch: 10 Train accuracy: 0.7526333333333334\n",
      "Epoch: 11 Train accuracy: 0.8508\n",
      "Epoch: 12 Train accuracy: 0.8473333333333334\n",
      "Epoch: 13 Train accuracy: 0.8532\n",
      "Epoch: 14 Train accuracy: 0.8559\n",
      "Epoch: 15 Train accuracy: 0.8571\n",
      "Epoch: 16 Train accuracy: 0.8646333333333334\n",
      "Epoch: 17 Train accuracy: 0.8676\n",
      "Epoch: 18 Train accuracy: 0.8521833333333333\n",
      "Epoch: 19 Train accuracy: 0.8662666666666666\n",
      "Epoch: 20 Train accuracy: 0.87365\n"
     ]
    }
   ],
   "source": [
    "EPOCHS = 20\n",
    "BATCHSIZE = 100\n",
    "\n",
    "idx = np.arange(len(trainX))\n",
    "for epoch in range(EPOCHS):\n",
    "    np.random.shuffle(idx)\n",
    "    for batch in range(0, len(idx), BATCHSIZE):\n",
    "        # prepare batch\n",
    "        states = trainX[idx[batch:batch + BATCHSIZE]]\n",
    "        labels = trainY[idx[batch:batch + BATCHSIZE]]\n",
    "\n",
    "        # predict probabilities for actions\n",
    "        probs = model.predict_on_batch(states)\n",
    "        # sample actions\n",
    "        actions = [np.random.choice(10, p=p) for p in probs]\n",
    "\n",
    "        # simulate feedback (clicks=rewards)\n",
    "        rewards = (actions == labels)\n",
    "        # calculate baseline as mean reward, basically accuracy\n",
    "        baseline = np.mean(rewards)\n",
    "        # calculate advantages\n",
    "        advantages = rewards - baseline\n",
    "\n",
    "        # train model with advantages as sample weights\n",
    "        model.train_on_batch(states, actions, sample_weight=advantages)\n",
    "        \n",
    "        #print(\"Batch: \", batch, \"Accuracy: \", baseline)\n",
    "\n",
    "    loss, accuracy = model.evaluate(trainX, trainY, verbose=0)\n",
    "    print(\"Epoch:\", epoch + 1, \"Train accuracy:\", accuracy)"
   ]
  },
  {
   "cell_type": "code",
   "execution_count": 9,
   "metadata": {},
   "outputs": [
    {
     "name": "stdout",
     "output_type": "stream",
     "text": [
      "10000/10000 [==============================] - 0s 14us/step\n",
      "Test accuracy: 0.8581\n"
     ]
    }
   ],
   "source": [
    "loss, accuracy = model.evaluate(testX, testY)\n",
    "print(\"Test accuracy:\", accuracy)"
   ]
  },
  {
   "cell_type": "markdown",
   "metadata": {},
   "source": [
    "## Conclusions\n",
    "\n",
    "* Reinforcement learning takes much longer to converge than supervised learning. If ever possible, use supervised learning.\n",
    "* But if your only feedback is in the form of rewards, then policy gradients are relatively easy to integrate with Keras.\n",
    "* Policy gradients can be used to optimize any non-differentiable loss function."
   ]
  },
  {
   "cell_type": "markdown",
   "metadata": {},
   "source": [
    "## Bonus\n",
    "\n",
    "Efficient Keras implementation for training with non-differentiable loss function using policy gradients."
   ]
  },
  {
   "cell_type": "code",
   "execution_count": 10,
   "metadata": {},
   "outputs": [
    {
     "name": "stdout",
     "output_type": "stream",
     "text": [
      "_________________________________________________________________\n",
      "Layer (type)                 Output Shape              Param #   \n",
      "=================================================================\n",
      "input_3 (InputLayer)         (None, 28, 28)            0         \n",
      "_________________________________________________________________\n",
      "flatten_3 (Flatten)          (None, 784)               0         \n",
      "_________________________________________________________________\n",
      "dense_5 (Dense)              (None, 128)               100480    \n",
      "_________________________________________________________________\n",
      "dense_6 (Dense)              (None, 10)                1290      \n",
      "=================================================================\n",
      "Total params: 101,770\n",
      "Trainable params: 101,770\n",
      "Non-trainable params: 0\n",
      "_________________________________________________________________\n"
     ]
    }
   ],
   "source": [
    "import tensorflow as tf\n",
    "from keras.metrics import sparse_categorical_accuracy\n",
    "\n",
    "x = Input(shape=trainX.shape[1:])\n",
    "f = Flatten()(x)\n",
    "h = Dense(128, activation='relu')(f)\n",
    "p = Dense(10, kernel_initializer=RandomNormal(stddev=0.01))(h)\n",
    "\n",
    "def policy_gradient_loss(labels, logits):\n",
    "    # convert labels to integers and strip redundant dimension\n",
    "    labels = tf.cast(labels, tf.int64)[:, 0]\n",
    "    # sample actions from logits, strip redundant dimension\n",
    "    actions = tf.random.categorical(logits, 1)[:, 0]\n",
    "\n",
    "    # simulate rewards: reward = 1 when the prediction was correct\n",
    "    rewards = tf.cast(tf.equal(actions, labels), tf.float32)\n",
    "    # baseline is mean reward of batch, basically accuracy\n",
    "    baseline = tf.reduce_mean(rewards)\n",
    "    # advantage is positive for correct predictions, negative for incorrect\n",
    "    advantages = rewards - baseline\n",
    "\n",
    "    # calculate categorical cross-entropy against sampled actions, weighted by advantages\n",
    "    return tf.nn.sparse_softmax_cross_entropy_with_logits(labels=actions, logits=logits) * advantages\n",
    "    \n",
    "model = Model(x, p)\n",
    "model.compile(loss=policy_gradient_loss, optimizer=Adam(lr=0.001), metrics=[sparse_categorical_accuracy])\n",
    "\n",
    "model.summary()"
   ]
  },
  {
   "cell_type": "code",
   "execution_count": 11,
   "metadata": {},
   "outputs": [
    {
     "name": "stdout",
     "output_type": "stream",
     "text": [
      "Epoch 1/20\n",
      "60000/60000 [==============================] - 1s 23us/step - loss: -0.0967 - sparse_categorical_accuracy: 0.6557\n",
      "Epoch 2/20\n",
      "60000/60000 [==============================] - 1s 21us/step - loss: -0.0436 - sparse_categorical_accuracy: 0.7264\n",
      "Epoch 3/20\n",
      "60000/60000 [==============================] - 1s 21us/step - loss: -0.0311 - sparse_categorical_accuracy: 0.7363\n",
      "Epoch 4/20\n",
      "60000/60000 [==============================] - 1s 21us/step - loss: -0.0306 - sparse_categorical_accuracy: 0.7373\n",
      "Epoch 5/20\n",
      "60000/60000 [==============================] - 1s 21us/step - loss: -0.0238 - sparse_categorical_accuracy: 0.7424\n",
      "Epoch 6/20\n",
      "60000/60000 [==============================] - 1s 20us/step - loss: -0.0281 - sparse_categorical_accuracy: 0.7494\n",
      "Epoch 7/20\n",
      "60000/60000 [==============================] - 1s 20us/step - loss: -0.0347 - sparse_categorical_accuracy: 0.7683\n",
      "Epoch 8/20\n",
      "60000/60000 [==============================] - 1s 20us/step - loss: -0.0318 - sparse_categorical_accuracy: 0.7760\n",
      "Epoch 9/20\n",
      "60000/60000 [==============================] - 1s 20us/step - loss: -0.0313 - sparse_categorical_accuracy: 0.7803\n",
      "Epoch 10/20\n",
      "60000/60000 [==============================] - 1s 21us/step - loss: -0.0296 - sparse_categorical_accuracy: 0.7866\n",
      "Epoch 11/20\n",
      "60000/60000 [==============================] - 1s 20us/step - loss: -0.0295 - sparse_categorical_accuracy: 0.7890\n",
      "Epoch 12/20\n",
      "60000/60000 [==============================] - 1s 20us/step - loss: -0.0294 - sparse_categorical_accuracy: 0.7918\n",
      "Epoch 13/20\n",
      "60000/60000 [==============================] - 1s 20us/step - loss: -0.0387 - sparse_categorical_accuracy: 0.8355\n",
      "Epoch 14/20\n",
      "60000/60000 [==============================] - 1s 20us/step - loss: -0.0328 - sparse_categorical_accuracy: 0.8461\n",
      "Epoch 15/20\n",
      "60000/60000 [==============================] - 1s 21us/step - loss: -0.0308 - sparse_categorical_accuracy: 0.8506\n",
      "Epoch 16/20\n",
      "60000/60000 [==============================] - 1s 20us/step - loss: -0.0291 - sparse_categorical_accuracy: 0.8548\n",
      "Epoch 17/20\n",
      "60000/60000 [==============================] - 1s 21us/step - loss: -0.0283 - sparse_categorical_accuracy: 0.8579\n",
      "Epoch 18/20\n",
      "60000/60000 [==============================] - 1s 20us/step - loss: -0.0252 - sparse_categorical_accuracy: 0.8588\n",
      "Epoch 19/20\n",
      "60000/60000 [==============================] - 1s 20us/step - loss: -0.0250 - sparse_categorical_accuracy: 0.8621\n",
      "Epoch 20/20\n",
      "60000/60000 [==============================] - 1s 20us/step - loss: -0.0250 - sparse_categorical_accuracy: 0.8635\n"
     ]
    },
    {
     "data": {
      "text/plain": [
       "<keras.callbacks.History at 0x7f95dc6c25f8>"
      ]
     },
     "execution_count": 11,
     "metadata": {},
     "output_type": "execute_result"
    }
   ],
   "source": [
    "# fit the model\n",
    "model.fit(trainX, trainY, epochs=20, batch_size=100)"
   ]
  },
  {
   "cell_type": "code",
   "execution_count": 12,
   "metadata": {},
   "outputs": [
    {
     "name": "stdout",
     "output_type": "stream",
     "text": [
      "10000/10000 [==============================] - 0s 18us/step\n",
      "Test accuracy: 0.8451\n"
     ]
    }
   ],
   "source": [
    "loss, accuracy = model.evaluate(testX, testY)\n",
    "print(\"Test accuracy:\", accuracy)"
   ]
  },
  {
   "cell_type": "code",
   "execution_count": null,
   "metadata": {},
   "outputs": [],
   "source": []
  }
 ],
 "metadata": {
  "kernelspec": {
   "display_name": "Python 3",
   "language": "python",
   "name": "python3"
  },
  "language_info": {
   "codemirror_mode": {
    "name": "ipython",
    "version": 3
   },
   "file_extension": ".py",
   "mimetype": "text/x-python",
   "name": "python",
   "nbconvert_exporter": "python",
   "pygments_lexer": "ipython3",
   "version": "3.6.8"
  }
 },
 "nbformat": 4,
 "nbformat_minor": 2
}
