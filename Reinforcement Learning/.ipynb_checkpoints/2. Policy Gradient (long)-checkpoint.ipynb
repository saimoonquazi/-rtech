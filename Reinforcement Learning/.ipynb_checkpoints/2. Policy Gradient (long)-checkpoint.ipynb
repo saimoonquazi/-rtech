{
 "cells": [
  {
   "cell_type": "markdown",
   "metadata": {},
   "source": [
    "# Policy Gradient\n",
    "\n",
    "Policy gradient method for reinforcement learning learns the policy directly, not the Q-function. Compared to Q-learning it is more straightforward to use with continuous state and action spaces."
   ]
  },
  {
   "cell_type": "markdown",
   "metadata": {},
   "source": [
    "## Log derivative trick\n",
    "\n",
    "In reinforcement learning we are trying to find a policy that maximizes the sum of rewards over episode.\n",
    "\n",
    "$$\n",
    "R = r_1 + r_2 + ... + r_n\n",
    "$$\n",
    "\n",
    "$$\n",
    "\\pi^* = argmax_{\\pi} E[R]\n",
    "$$\n",
    "\n",
    "Expectation here is over environment transitions $P(s_{t+1}|s_t, a_t)$ and actions chosen by the policy $\\pi_{\\theta}(a_t|s_t)$, where $\\theta$ is the parameters (network weights) of the policy. In general case this could be seen as a maximization of expected total reward $R(\\tau)$ for trajectory $\\tau = <s_0, a_0, r_1, s_1, a_1, ..., r_n, s_n>$, when the only thing we can change is the probability of the trajectory, denoted by $p_{\\theta}(\\tau)$:\n",
    "\n",
    "$$\n",
    "\\max E_{\\tau \\sim p_{\\theta}(\\tau)}[R(\\tau)]\n",
    "$$\n",
    "\n",
    "While the probability of trajectory $\\tau$ depends both on environment dynamics $P(s_{t+1}|s_t, a_t)$ and policy $\\pi_{\\theta}(a_t|s_t)$, we only have control over the latter. Therefore we want to change the policy parameters $\\theta$ in a way that would maximize the expectation (average value) of $R(\\tau)$. We can do this by taking gradient steps with respect to the $\\theta$:\n",
    "\n",
    "$$\n",
    "\\nabla_{\\theta} E_{\\tau \\sim p_{\\theta}(\\tau)}[R(\\tau)]\n",
    "$$\n",
    "\n",
    "Computing this gradient is not straightforward, but turns out we can modify the equation so that we can estimate the gradient using Monte-Carlo sampling:\n",
    "\n",
    "$$\n",
    "\\begin{align}\n",
    "\\nabla_{\\theta} E_{\\tau \\sim p_{\\theta}(\\tau)}[R(\\tau)] &= \\nabla_{\\theta} \\sum_{\\tau} p_{\\theta}(\\tau) R(\\tau) & \\text{definition of expectation} \\\\\n",
    "& = \\sum_{\\tau} \\nabla_{\\theta} p_{\\theta}(\\tau) R(\\tau) & \\text{swap sum and gradient} \\\\\n",
    "& = \\sum_{\\tau} p_{\\theta}(\\tau) \\frac{\\nabla_{\\theta} p_{\\theta}(\\tau)}{p_{\\theta}(\\tau)} R(\\tau) & \\text{both multiply and divide by } p_{\\theta}(\\tau) \\\\\n",
    "& = \\sum_{\\tau} p_{\\theta}(\\tau) \\nabla_{\\theta} \\log p_{\\theta}(\\tau) R(\\tau) & \\text{use the fact that } \\nabla_{\\theta} \\log(x) = \\frac{1}{x} \\nabla_{\\theta} x \\\\\n",
    "& = E_{\\tau \\sim p_{\\theta}(\\tau)}[\\nabla_{\\theta} \\log p_{\\theta}(\\tau) R(\\tau)] & \\text{definition of expectation}\n",
    "\\end{align}\n",
    "$$\n",
    "\n",
    "Because the expectation is still over $p_{\\theta}(\\tau)$, we can sample trajectory $\\tau$ as usual, compute its total reward with $R(\\tau)$ and this multiplied with $\\nabla_{\\theta} \\log p_{\\theta}(\\tau)$ is the unbiased estimate of the gradient."
   ]
  },
  {
   "cell_type": "markdown",
   "metadata": {},
   "source": [
    "## Policy gradient formula\n",
    "\n",
    "With little bit more work we can show that $\\nabla_{\\theta} \\log \\pi_{\\theta}(\\tau)$ does not depend on enironment dynamics $P(s_{t+1}|s_t, a_t)$, only on policy $\\pi_{\\theta}(a_t|s_t)$:\n",
    "\n",
    "$$\n",
    "\\begin{align}\n",
    "p_{\\theta}(\\tau) &= p(s_0)\\prod_{t=0}^n\\pi_{\\theta}(a_t|s_t)P(s_{t+1}|s_t,a_t) & \\text{probability of a trajectory}\\\\\n",
    "\\log p_{\\theta}(\\tau) &= \\log p(s_0) + \\sum_{t=0}^n \\log p_{\\theta}(a_t|s_t) + \\log P(s_{t+1}|s_t,a_t) & \\text{log probability of a trajectory}\\\\\n",
    "\\nabla_{\\theta} \\log p_{\\theta}(\\tau) &= \\sum_{t=0}^n \\nabla_{\\theta} \\log \\pi_{\\theta}(a_t|s_t) & \\text{environment dynamics does not depend on }\\theta\n",
    "\\end{align}\n",
    "$$\n",
    "\n",
    "Thanks to log-derivative trick we can operate with summation, not with multiplication. In the sum all the derivatives of environment dynamics probabilities are zero, because they do not depend on policy parameters $\\theta$. The final form of policy gradient formula is as follows:\n",
    "$$\n",
    "\\nabla_{\\theta} E[R] = E\\left[\\sum_{t=0}^n \\nabla_{\\theta} \\log \\pi_{\\theta}(a_t|s_t) R \\right]\n",
    "$$"
   ]
  },
  {
   "cell_type": "markdown",
   "metadata": {},
   "source": [
    "## Reduction of variance\n",
    "\n",
    "While the above derivation may be mathematically elegant, the resulting gradient estimator is very noisy. Turns out there are multiple ways to reduce the variance of the gradient.\n",
    "\n",
    "### Use return instead of total reward\n",
    "\n",
    "Because the goodness of an action cannot possibly depend on actions and rewards before it, we can safely replace total reward $R$ with return $R_t$:\n",
    "\n",
    "$$\n",
    "\\nabla_{\\theta} E[R] = E\\left[\\sum_{t=0}^n \\nabla_{\\theta} \\log \\pi_{\\theta}(a_t|s_t) R_t \\right]\n",
    "$$\n",
    "\n",
    "### Use constant baseline\n",
    "\n",
    "If we subtract a constant from return in policy gradient formula, it does not affect the result (because derivative of constant is zero) and it can substantially reduce the variance, therefore reducing the time to convergence. \n",
    "\n",
    "$$\n",
    "\\nabla_{\\theta} E[R] = E\\left[\\sum_{t=0}^n \\nabla_{\\theta} \\log \\pi_{\\theta}(a_t|s_t) (R_t - b) \\right]\n",
    "$$\n",
    "\n",
    "The quantity $R_t -b$ is sometimes called an **advantage**. Indeed it measures \"how much better was the return this time compared to the average\".\n",
    "\n",
    "### Use state value as a baseline\n",
    "\n",
    "Even better than using constant baseline is to use state value $V(s_t)$ as a baseline ([why we can do this?](https://ai.stackexchange.com/questions/7896/why-is-baseline-conditional-on-state-at-some-timestep-unbiased)):\n",
    "\n",
    "$$\n",
    "\\nabla_{\\theta} E[R] = E\\left[\\sum_{t=0}^n \\nabla_{\\theta} \\log \\pi_{\\theta}(a_t|s_t) (R_t - V(s_t)) \\right]\n",
    "$$\n",
    "\n",
    "Indeed \"average return from state $s_t$\" is basically the definition of state value $V(s_t)$ and therefore it is the best possible baseline."
   ]
  },
  {
   "cell_type": "markdown",
   "metadata": {},
   "source": [
    "## Intuition\n",
    "\n",
    "While the mathematical derivation of policy gradient might be a bit involved, the intuition behind it is pretty straightforward. First note that without the advantage part, the policy gradient formula is just normal log-likelihood maximization, meaning it increases the probability of chosen actions. Advantages just weight whether the probability is increased or decreased and how much:\n",
    "\n",
    "* if $R_t - b$ is positive, then current return was better than usual and the probability of the action is *increased*.\n",
    "* if $R_t - b$ is negative, then current return was better than usual and the probability of the action is instead *decreased*.\n",
    "\n",
    "For example with discrete action space when using softmax operation to calculate the probabilities, decreasing the probability of one action actually means increasing the probability of other actions. In other words - negative advantages say that explore more, try other actions.\n",
    "\n",
    "<img src=\"images/pg.png\">"
   ]
  },
  {
   "cell_type": "markdown",
   "metadata": {},
   "source": [
    "## Implementation\n",
    "\n",
    "When looking at the policy gradient formulas, it may not be evident how to implement it without digging into the depths of TensorFlow. Actually the implementation can be very simple, with a small modification to supervised learning loss function. Remember that most loss functions used in supervised learning actually try to maximize the log-likelihood of the target value:\n",
    "\n",
    "* categorical cross-entropy loss function is $L = -\\sum_i \\log(p_{ik})$. By minimizing the negative log probability, it actually tries to maximize the log probability of the target class $k$ of sample $i$.\n",
    "* mean squared error loss function is $L = \\sum_i (\\hat{y}_i-y_i)^2$. By minimizing the mean squared error, it [actually tries to](https://www.jessicayung.com/mse-as-maximum-likelihood/) maximize the log probability of $y_i$ under Gaussian distribution with mean $\\hat{y}_i$ and fixed standard deviation.\n",
    "\n",
    "For the general case we can rewrite those loss functions as \n",
    "\n",
    "$$\n",
    "L = -\\sum_i \\log p_{\\theta}(y_i|x_i)\n",
    "$$\n",
    "\n",
    "where $x_i$ is the input to the network, $y_i$ is the target output and $\\theta$ represents the parameters (weights) of the network. All we need to do, is to augment this loss function with weights for individual samples: \n",
    "\n",
    "$$\n",
    "L = -\\sum_i \\log p_{\\theta}(y_i|x_i) \\alpha_i\n",
    "$$\n",
    "\n",
    "Sample weighting is used in supervised learning to fight with class imbalance. It is already implemented in Keras as `sample_weight` parameter to `Model.fit()` method. Note that the gradient of the loss function now looks a lot like policy gradient formula:\n",
    "\n",
    "$$\n",
    "\\nabla_{\\theta} L = -\\sum_i \\nabla_{\\theta} \\log p_{\\theta}(y_i|x_i) \\alpha_i\n",
    "$$\n",
    "\n",
    "Because sample weights $\\alpha_i$ are constants, they pass through the gradient operation as just multipliers.\n",
    "\n",
    "Now the only thing left is to replace supervised learning terminology with reinforcement learning terms:\n",
    "$$\n",
    "\\begin{align}\n",
    "p_{\\theta}(y_i|x_i) &= \\pi_{\\theta}(a_t|s_t)\\\\\n",
    "\\alpha_i &= R_t - b\\\\\n",
    "i &= t\n",
    "\\end{align}\n",
    "$$\n",
    "\n",
    "This gives us the policy gradient loss function, with the only difference of negative sign, because loss functions are usually minimized, not maximized:\n",
    "$$\n",
    "L = -\\sum_{t=0}^n \\log \\pi_{\\theta}(a_t|s_t) (R_t - b)\n",
    "$$"
   ]
  },
  {
   "cell_type": "markdown",
   "metadata": {},
   "source": [
    "## Algorithm\n",
    "\n",
    "Finally the policy gradient algorithm goes like this:\n",
    "```\n",
    "repeat\n",
    "  collect a trajectory by sampling actions from policy\n",
    "  calculate returns per time step\n",
    "  calculate advantages per time step\n",
    "  train the policy network with \n",
    "    states as inputs\n",
    "    actions as outputs\n",
    "    advantages as sample weights\n",
    "until termination\n",
    "```"
   ]
  },
  {
   "cell_type": "markdown",
   "metadata": {},
   "source": [
    "# CartPole Example"
   ]
  },
  {
   "cell_type": "code",
   "execution_count": 1,
   "metadata": {},
   "outputs": [
    {
     "name": "stderr",
     "output_type": "stream",
     "text": [
      "Using TensorFlow backend.\n"
     ]
    }
   ],
   "source": [
    "import gym\n",
    "import numpy as np\n",
    "import matplotlib.pyplot as plt\n",
    "\n",
    "from keras.models import Model\n",
    "from keras.layers import Input, Dense\n",
    "from keras.optimizers import RMSprop"
   ]
  },
  {
   "cell_type": "code",
   "execution_count": 2,
   "metadata": {},
   "outputs": [
    {
     "name": "stdout",
     "output_type": "stream",
     "text": [
      "Observation space: Box(4,)\n",
      "Action space: Discrete(2)\n"
     ]
    }
   ],
   "source": [
    "# create the CartPole environment\n",
    "env = gym.make('CartPole-v0')\n",
    "print(\"Observation space:\", env.observation_space)\n",
    "print(\"Action space:\", env.action_space)"
   ]
  },
  {
   "cell_type": "code",
   "execution_count": 3,
   "metadata": {},
   "outputs": [
    {
     "name": "stdout",
     "output_type": "stream",
     "text": [
      "WARNING:tensorflow:From /home/tambet/miniconda3/envs/nn/lib/python3.7/site-packages/tensorflow/python/framework/op_def_library.py:263: colocate_with (from tensorflow.python.framework.ops) is deprecated and will be removed in a future version.\n",
      "Instructions for updating:\n",
      "Colocations handled automatically by placer.\n",
      "_________________________________________________________________\n",
      "Layer (type)                 Output Shape              Param #   \n",
      "=================================================================\n",
      "input_1 (InputLayer)         (None, 4)                 0         \n",
      "_________________________________________________________________\n",
      "dense_1 (Dense)              (None, 64)                320       \n",
      "_________________________________________________________________\n",
      "dense_2 (Dense)              (None, 64)                4160      \n",
      "_________________________________________________________________\n",
      "dense_3 (Dense)              (None, 2)                 130       \n",
      "=================================================================\n",
      "Total params: 4,610\n",
      "Trainable params: 4,610\n",
      "Non-trainable params: 0\n",
      "_________________________________________________________________\n"
     ]
    }
   ],
   "source": [
    "# create a model with two hidden layers\n",
    "x = Input(shape=env.observation_space.shape)\n",
    "h1 = Dense(64, activation='tanh')(x)\n",
    "h2 = Dense(64, activation='tanh')(h1)\n",
    "p = Dense(env.action_space.n, activation='softmax')(h2)\n",
    "\n",
    "# use RMSProp optimizer and categorical crossentropy loss\n",
    "model = Model(x, p)\n",
    "model.compile(optimizer=RMSprop(0.003), loss='sparse_categorical_crossentropy')\n",
    "\n",
    "model.summary()"
   ]
  },
  {
   "cell_type": "code",
   "execution_count": 4,
   "metadata": {},
   "outputs": [],
   "source": [
    "# calculate returns\n",
    "def calculate_returns(rewards, dones, discount=0.9):\n",
    "    returns = []\n",
    "    for reward, done in zip(reversed(rewards), reversed(dones)):\n",
    "        if done:\n",
    "            ret = reward\n",
    "        else:\n",
    "            ret = reward + discount * ret\n",
    "        returns.insert(0, ret)\n",
    "    return returns\n",
    "\n",
    "# buffers to keep average returns per timestep\n",
    "timestep_returns = np.zeros(env.spec.max_episode_steps)\n",
    "timestep_counts = np.zeros(env.spec.max_episode_steps)\n",
    "\n",
    "# calculate baselines\n",
    "def calculate_baselines(returns):\n",
    "    # use simple timestep-dependent average as baseline\n",
    "    timestep_returns[:len(returns)] += returns\n",
    "    timestep_counts[:len(returns)] += 1\n",
    "    baselines = timestep_returns[:len(returns)] / timestep_counts[:len(returns)]\n",
    "    return baselines\n",
    "\n",
    "# calculate advantages\n",
    "def calculate_advantages(returns, baselines):\n",
    "    # calculate advantages\n",
    "    advantages = returns - baselines\n",
    "    # normalize advantages\n",
    "    advantages /= np.std(advantages) + 0.000001\n",
    "    return advantages"
   ]
  },
  {
   "cell_type": "code",
   "execution_count": 5,
   "metadata": {},
   "outputs": [
    {
     "name": "stdout",
     "output_type": "stream",
     "text": [
      "Episode  1 Episode reward: 25.0 Episode length: 25\n",
      "Episode  2 Episode reward: 11.0 Episode length: 11\n",
      "WARNING:tensorflow:From /home/tambet/miniconda3/envs/nn/lib/python3.7/site-packages/tensorflow/python/ops/math_ops.py:3066: to_int32 (from tensorflow.python.ops.math_ops) is deprecated and will be removed in a future version.\n",
      "Instructions for updating:\n",
      "Use tf.cast instead.\n",
      "Episode  3 Episode reward: 20.0 Episode length: 20\n",
      "Episode  4 Episode reward: 35.0 Episode length: 35\n",
      "Episode  5 Episode reward: 33.0 Episode length: 33\n",
      "Episode  6 Episode reward: 46.0 Episode length: 46\n",
      "Episode  7 Episode reward: 45.0 Episode length: 45\n",
      "Episode  8 Episode reward: 60.0 Episode length: 60\n",
      "Episode  9 Episode reward: 26.0 Episode length: 26\n",
      "Episode  10 Episode reward: 30.0 Episode length: 30\n",
      "Episode  11 Episode reward: 45.0 Episode length: 45\n",
      "Episode  12 Episode reward: 30.0 Episode length: 30\n",
      "Episode  13 Episode reward: 38.0 Episode length: 38\n",
      "Episode  14 Episode reward: 19.0 Episode length: 19\n",
      "Episode  15 Episode reward: 69.0 Episode length: 69\n",
      "Episode  16 Episode reward: 46.0 Episode length: 46\n",
      "Episode  17 Episode reward: 41.0 Episode length: 41\n",
      "Episode  18 Episode reward: 74.0 Episode length: 74\n",
      "Episode  19 Episode reward: 54.0 Episode length: 54\n",
      "Episode  20 Episode reward: 34.0 Episode length: 34\n",
      "Episode  21 Episode reward: 54.0 Episode length: 54\n",
      "Episode  22 Episode reward: 99.0 Episode length: 99\n",
      "Episode  23 Episode reward: 130.0 Episode length: 130\n",
      "Episode  24 Episode reward: 45.0 Episode length: 45\n",
      "Episode  25 Episode reward: 200.0 Episode length: 200\n",
      "Episode  26 Episode reward: 200.0 Episode length: 200\n",
      "Episode  27 Episode reward: 79.0 Episode length: 79\n",
      "Episode  28 Episode reward: 200.0 Episode length: 200\n",
      "Episode  29 Episode reward: 48.0 Episode length: 48\n",
      "Episode  30 Episode reward: 33.0 Episode length: 33\n",
      "Episode  31 Episode reward: 200.0 Episode length: 200\n",
      "Episode  32 Episode reward: 200.0 Episode length: 200\n",
      "Episode  33 Episode reward: 159.0 Episode length: 159\n",
      "Episode  34 Episode reward: 200.0 Episode length: 200\n",
      "Episode  35 Episode reward: 200.0 Episode length: 200\n",
      "Episode  36 Episode reward: 200.0 Episode length: 200\n",
      "Episode  37 Episode reward: 165.0 Episode length: 165\n",
      "Episode  38 Episode reward: 139.0 Episode length: 139\n",
      "Episode  39 Episode reward: 187.0 Episode length: 187\n",
      "Episode  40 Episode reward: 127.0 Episode length: 127\n",
      "Episode  41 Episode reward: 194.0 Episode length: 194\n",
      "Episode  42 Episode reward: 183.0 Episode length: 183\n",
      "Episode  43 Episode reward: 200.0 Episode length: 200\n",
      "Episode  44 Episode reward: 200.0 Episode length: 200\n",
      "Episode  45 Episode reward: 200.0 Episode length: 200\n",
      "Episode  46 Episode reward: 192.0 Episode length: 192\n",
      "Episode  47 Episode reward: 200.0 Episode length: 200\n",
      "Episode  48 Episode reward: 200.0 Episode length: 200\n",
      "Episode  49 Episode reward: 172.0 Episode length: 172\n",
      "Episode  50 Episode reward: 191.0 Episode length: 191\n",
      "Episode  51 Episode reward: 200.0 Episode length: 200\n",
      "Episode  52 Episode reward: 200.0 Episode length: 200\n",
      "Episode  53 Episode reward: 200.0 Episode length: 200\n",
      "Episode  54 Episode reward: 189.0 Episode length: 189\n",
      "Episode  55 Episode reward: 200.0 Episode length: 200\n",
      "Episode  56 Episode reward: 200.0 Episode length: 200\n",
      "Episode  57 Episode reward: 196.0 Episode length: 196\n",
      "Episode  58 Episode reward: 200.0 Episode length: 200\n",
      "Episode  59 Episode reward: 179.0 Episode length: 179\n",
      "Episode  60 Episode reward: 200.0 Episode length: 200\n",
      "Episode  61 Episode reward: 200.0 Episode length: 200\n",
      "Episode  62 Episode reward: 200.0 Episode length: 200\n",
      "Episode  63 Episode reward: 200.0 Episode length: 200\n",
      "Episode  64 Episode reward: 200.0 Episode length: 200\n",
      "Episode  65 Episode reward: 200.0 Episode length: 200\n",
      "Episode  66 Episode reward: 200.0 Episode length: 200\n",
      "Episode  67 Episode reward: 200.0 Episode length: 200\n",
      "Episode  68 Episode reward: 200.0 Episode length: 200\n",
      "Episode  69 Episode reward: 200.0 Episode length: 200\n",
      "Episode  70 Episode reward: 200.0 Episode length: 200\n",
      "Episode  71 Episode reward: 200.0 Episode length: 200\n",
      "Episode  72 Episode reward: 200.0 Episode length: 200\n",
      "Episode  73 Episode reward: 200.0 Episode length: 200\n",
      "Episode  74 Episode reward: 200.0 Episode length: 200\n",
      "Episode  75 Episode reward: 200.0 Episode length: 200\n",
      "Episode  76 Episode reward: 200.0 Episode length: 200\n",
      "Episode  77 Episode reward: 163.0 Episode length: 163\n",
      "Episode  78 Episode reward: 200.0 Episode length: 200\n",
      "Episode  79 Episode reward: 200.0 Episode length: 200\n",
      "Episode  80 Episode reward: 200.0 Episode length: 200\n",
      "Episode  81 Episode reward: 200.0 Episode length: 200\n",
      "Episode  82 Episode reward: 200.0 Episode length: 200\n",
      "Episode  83 Episode reward: 200.0 Episode length: 200\n",
      "Episode  84 Episode reward: 200.0 Episode length: 200\n",
      "Episode  85 Episode reward: 200.0 Episode length: 200\n",
      "Episode  86 Episode reward: 200.0 Episode length: 200\n",
      "Episode  87 Episode reward: 200.0 Episode length: 200\n",
      "Episode  88 Episode reward: 200.0 Episode length: 200\n",
      "Episode  89 Episode reward: 200.0 Episode length: 200\n",
      "Episode  90 Episode reward: 200.0 Episode length: 200\n",
      "Episode  91 Episode reward: 200.0 Episode length: 200\n",
      "Episode  92 Episode reward: 200.0 Episode length: 200\n",
      "Episode  93 Episode reward: 200.0 Episode length: 200\n",
      "Episode  94 Episode reward: 40.0 Episode length: 40\n",
      "Episode  95 Episode reward: 172.0 Episode length: 172\n",
      "Episode  96 Episode reward: 200.0 Episode length: 200\n",
      "Episode  97 Episode reward: 200.0 Episode length: 200\n",
      "Episode  98 Episode reward: 200.0 Episode length: 200\n",
      "Episode  99 Episode reward: 200.0 Episode length: 200\n",
      "Episode  100 Episode reward: 200.0 Episode length: 200\n"
     ]
    }
   ],
   "source": [
    "# reset statistics\n",
    "episode_rewards = []\n",
    "episode_lengths = []\n",
    "\n",
    "# do 100 episodes\n",
    "for i in range(100):\n",
    "    states = []\n",
    "    actions = []\n",
    "    rewards = []\n",
    "    dones = []\n",
    "    episode_reward = 0\n",
    "    episode_length = 0\n",
    "\n",
    "    # collect a trajectory\n",
    "    state = env.reset()\n",
    "    done = False\n",
    "    while not done:\n",
    "        # predict action probabilities from state\n",
    "        p = model.predict_on_batch(state[np.newaxis])\n",
    "        # sample action from probabilities\n",
    "        action = np.random.choice(env.action_space.n, p=p[0])\n",
    "\n",
    "        # log state and action\n",
    "        states.append(state)\n",
    "        actions.append(action)\n",
    "\n",
    "        # step environment\n",
    "        state, reward, done, info = env.step(action)\n",
    "        #env.render()\n",
    "\n",
    "        # log reward and done\n",
    "        rewards.append(reward)\n",
    "        dones.append(done)\n",
    "\n",
    "        # sum rewards per episode\n",
    "        episode_reward += reward\n",
    "        episode_length += 1\n",
    "\n",
    "    # record reward statistics\n",
    "    episode_rewards.append(episode_reward)\n",
    "    episode_lengths.append(episode_length)\n",
    "\n",
    "    print(\"Episode \", i + 1, \"Episode reward:\", episode_reward, \"Episode length:\", episode_length)\n",
    "\n",
    "    # calculate returns\n",
    "    returns = calculate_returns(rewards, dones)\n",
    "    \n",
    "    # calculate baselines\n",
    "    baselines = calculate_baselines(returns)\n",
    "    \n",
    "    # calculate advantages\n",
    "    advantages = calculate_advantages(returns, baselines)\n",
    "    \n",
    "    # train the network, skip training if all advantages are zeros\n",
    "    if np.any(advantages):\n",
    "        model.train_on_batch(np.array(states), np.array(actions), sample_weight=advantages)"
   ]
  },
  {
   "cell_type": "code",
   "execution_count": 6,
   "metadata": {},
   "outputs": [
    {
     "data": {
      "text/plain": [
       "Text(0.5, 1.0, 'Episode lengths')"
      ]
     },
     "execution_count": 6,
     "metadata": {},
     "output_type": "execute_result"
    },
    {
     "data": {
      "image/png": "[encoded data removed]",
      "text/plain": [
       "<Figure size 936x360 with 2 Axes>"
      ]
     },
     "metadata": {
      "needs_background": "light"
     },
     "output_type": "display_data"
    }
   ],
   "source": [
    "# plot episode rewards and lengths\n",
    "# because in this environment you get reward 1 for each timestep you are alive, \n",
    "# then episode reward matches with episode length\n",
    "plt.figure(figsize=(13, 5))\n",
    "plt.subplot(1, 2, 1)\n",
    "plt.plot(episode_rewards)\n",
    "plt.title(\"Episode rewards\")\n",
    "plt.subplot(1, 2, 2)\n",
    "plt.plot(episode_lengths)\n",
    "plt.title(\"Episode lengths\")"
   ]
  },
  {
   "cell_type": "code",
   "execution_count": 7,
   "metadata": {},
   "outputs": [
    {
     "data": {
      "text/plain": [
       "[<matplotlib.lines.Line2D at 0x7ff1c80a0da0>]"
      ]
     },
     "execution_count": 7,
     "metadata": {},
     "output_type": "execute_result"
    },
    {
     "data": {
      "image/png": "[encoded data removed]",
      "text/plain": [
       "<Figure size 432x288 with 1 Axes>"
      ]
     },
     "metadata": {
      "needs_background": "light"
     },
     "output_type": "display_data"
    }
   ],
   "source": [
    "# plot average timestep returns. remember that these are discounted!\n",
    "plt.plot(timestep_returns / timestep_counts)"
   ]
  },
  {
   "cell_type": "code",
   "execution_count": 8,
   "metadata": {},
   "outputs": [],
   "source": [
    "# visualize one episode\n",
    "state = env.reset()\n",
    "done = False\n",
    "env.render()\n",
    "while not done:\n",
    "    p = model.predict(state[np.newaxis])\n",
    "    action = np.argmax(p[0])\n",
    "    \n",
    "    state, reward, done, info = env.step(action)\n",
    "    env.render()\n",
    "env.close()"
   ]
  },
  {
   "cell_type": "markdown",
   "metadata": {},
   "source": [
    "## Final words\n",
    "\n",
    "If you have access to environment dynamics function $P(s'|s,a)$ and reward function $R(s, a, s')$ and both are differentiable, you could theoretically optimize $E[R]$ explicitly. In practice there are some instability issues, for details see [these slides](http://rail.eecs.berkeley.edu/deeprlcourse/static/slides/lec-13.pdf) or [this paper](https://arxiv.org/abs/1510.09142). Still, it is a good idea to make use of environment model, whenever it is available (or learnable)."
   ]
  },
  {
   "cell_type": "code",
   "execution_count": null,
   "metadata": {},
   "outputs": [],
   "source": []
  }
 ],
 "metadata": {
  "kernelspec": {
   "display_name": "Python 3",
   "language": "python",
   "name": "python3"
  },
  "language_info": {
   "codemirror_mode": {
    "name": "ipython",
    "version": 3
   },
   "file_extension": ".py",
   "mimetype": "text/x-python",
   "name": "python",
   "nbconvert_exporter": "python",
   "pygments_lexer": "ipython3",
   "version": "3.6.8"
  }
 },
 "nbformat": 4,
 "nbformat_minor": 2
}
